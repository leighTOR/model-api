{
  "nbformat": 4,
  "nbformat_minor": 0,
  "metadata": {
    "colab": {
      "provenance": [],
      "gpuType": "T4",
      "authorship_tag": "ABX9TyPPZbs1/vz+4nZMAXwttEmx",
      "include_colab_link": true
    },
    "kernelspec": {
      "name": "python3",
      "display_name": "Python 3"
    },
    "language_info": {
      "name": "python"
    },
    "accelerator": "GPU"
  },
  "cells": [
    {
      "cell_type": "markdown",
      "metadata": {
        "id": "view-in-github",
        "colab_type": "text"
      },
      "source": [
        "<a href=\"https://colab.research.google.com/github/leighTOR/model-api/blob/main/model_apiv1.ipynb\" target=\"_parent\"><img src=\"https://colab.research.google.com/assets/colab-badge.svg\" alt=\"Open In Colab\"/></a>"
      ]
    },
    {
      "cell_type": "code",
      "execution_count": null,
      "metadata": {
        "id": "6Cs3CzaaqpMS"
      },
      "outputs": [],
      "source": [
        "# Step 1: Install the necessary libraries\n",
        "!pip install flask-ngrok\n",
        "!pip install torch torchvision  # Install PyTorch if not already installed\n",
        "!pip install efficientnet_pytorch  # If you're using EfficientNet from this library"
      ]
    },
    {
      "cell_type": "code",
      "source": [
        "# Step 2: Import necessary libraries\n",
        "from flask import Flask, request, jsonify\n",
        "from flask_ngrok import run_with_ngrok\n",
        "import torch\n",
        "import torch.nn as nn\n",
        "from efficientnet_pytorch import EfficientNet"
      ],
      "metadata": {
        "id": "VwbXkO1Prigl"
      },
      "execution_count": null,
      "outputs": []
    },
    {
      "cell_type": "code",
      "source": [
        "# Step 3: Define the Flask app\n",
        "app = Flask(__name__)\n",
        "run_with_ngrok(app)  # Initialize ngrok for public access"
      ],
      "metadata": {
        "id": "tX9e6nIorqYj"
      },
      "execution_count": null,
      "outputs": []
    },
    {
      "cell_type": "code",
      "source": [
        "# Step 4: Load your pre-trained EfficientNet model\n",
        "class MyModel(nn.Module):\n",
        "    def __init__(self):\n",
        "        super(MyModel, self).__init__()\n",
        "        self.model = EfficientNet.from_name('efficientnet-b0')\n",
        "\n",
        "    def forward(self, x):\n",
        "        return self.model(x)\n",
        "\n",
        "model = MyModel()\n",
        "model.load_state_dict(torch.load('efficientnet.pt', map_location=torch.device('cpu')))\n",
        "model.eval()\n"
      ],
      "metadata": {
        "id": "bw8P2zP8rvG_"
      },
      "execution_count": null,
      "outputs": []
    },
    {
      "cell_type": "code",
      "source": [
        "# Step 5: Define the predict route\n",
        "@app.route('/predict', methods=['POST'])\n",
        "def predict():\n",
        "    data = request.get_json(force=True)\n",
        "    input_tensor = torch.tensor(data['input'])  # Convert input to tensor\n",
        "    input_tensor = input_tensor.unsqueeze(0)  # Add batch dimension if needed\n",
        "\n",
        "    # Model inference\n",
        "    with torch.no_grad():\n",
        "        output = model(input_tensor).numpy().tolist()  # Get the output\n",
        "\n",
        "    return jsonify({'prediction': output})"
      ],
      "metadata": {
        "id": "FwkOqbjNr0aJ"
      },
      "execution_count": null,
      "outputs": []
    },
    {
      "cell_type": "code",
      "source": [
        "# Step 6: Run the Flask app\n",
        "if __name__ == '__main__':\n",
        "    app.run()"
      ],
      "metadata": {
        "id": "jbgtRYHCr3Cz"
      },
      "execution_count": null,
      "outputs": []
    }
  ]
}